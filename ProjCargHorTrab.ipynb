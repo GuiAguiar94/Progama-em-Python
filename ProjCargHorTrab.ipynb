{
  "nbformat": 4,
  "nbformat_minor": 0,
  "metadata": {
    "colab": {
      "name": "ProjCargHorTrab.ipynb",
      "provenance": []
    },
    "kernelspec": {
      "name": "python3",
      "display_name": "Python 3"
    },
    "language_info": {
      "name": "python"
    }
  },
  "cells": [
    {
      "cell_type": "code",
      "metadata": {
        "id": "Fr0cakB9IJ3l"
      },
      "source": [
        "trabalho = input(\"Você está satisfeito com seu trabalho?'S para sim' ou 'N para não'\")\n",
        "comer = input(\"Você está se alimentando bem? 'S para sim' ou 'N para não'\")\n",
        "dormir = input(\"Você dorme pelo menos 8 horas por dia?'S para sim' ou 'N para não'\")\n",
        "\n",
        "if trabalho == \"S\":\n",
        "  print(\"Continue assim!\")\n",
        "else :\n",
        "  trabalho == \"N\"\n",
        "  print(\"Considere mudar de profissão!\")\n",
        "\n",
        "if trabalho == \"S\" and comer == \"S\" and dormir == \"S\":\n",
        "  print(\"Parabéns ,você está no caminho certo!\")\n",
        "elif trabalho == \"N\"  and comer == \"N\" and dormir == \"N\":\n",
        "  print(\"Você precisa mudar sua rotina,urgentimente!\")\n",
        "else:\n",
        "  print(\"Mude pelo menos 1 rotina!\")\n"
      ],
      "execution_count": null,
      "outputs": []
    }
  ]
}